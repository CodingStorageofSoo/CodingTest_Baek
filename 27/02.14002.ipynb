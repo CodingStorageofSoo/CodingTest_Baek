{
 "cells": [
  {
   "cell_type": "code",
   "execution_count": 4,
   "source": [
    "N = int(input())\n",
    "array = list(map(int, input().split()))"
   ],
   "outputs": [],
   "metadata": {}
  },
  {
   "cell_type": "code",
   "execution_count": 5,
   "source": [
    "dp = [[element] for element in array]"
   ],
   "outputs": [],
   "metadata": {}
  },
  {
   "cell_type": "code",
   "execution_count": 6,
   "source": [
    "dp"
   ],
   "outputs": [
    {
     "output_type": "execute_result",
     "data": {
      "text/plain": [
       "[[10], [20], [10], [30], [20], [50]]"
      ]
     },
     "metadata": {},
     "execution_count": 6
    }
   ],
   "metadata": {}
  },
  {
   "cell_type": "code",
   "execution_count": 7,
   "source": [
    "for i in range(N):\n",
    "    for j in range(i):\n",
    "        if array[i] > array[j]:\n",
    "            if len(dp[i]) < len(dp[j])+1:\n",
    "                dp[i] = dp[j] + [array[i]]"
   ],
   "outputs": [],
   "metadata": {}
  },
  {
   "cell_type": "code",
   "execution_count": 9,
   "source": [
    "max(dp)"
   ],
   "outputs": [
    {
     "output_type": "execute_result",
     "data": {
      "text/plain": [
       "[10, 20, 30, 50]"
      ]
     },
     "metadata": {},
     "execution_count": 9
    }
   ],
   "metadata": {}
  },
  {
   "cell_type": "code",
   "execution_count": 20,
   "source": [
    "N = int(input())\n",
    "array = list(map(int, input().split()))\n",
    "\n",
    "dp = [[element] for element in array]\n",
    "\n",
    "ans = []\n",
    "for i in range(N):\n",
    "    for j in range(i):\n",
    "        if array[i] > array[j]:\n",
    "            if len(dp[i]) < len(dp[j])+1:\n",
    "                dp[i] = dp[j] + [array[i]]\n",
    "                if len(dp[i]) > len(ans):\n",
    "                    ans = dp[i]\n",
    "              \n",
    "print(len(ans))\n",
    "for k in ans:\n",
    "    print(k, end = ' ')\n",
    "\n"
   ],
   "outputs": [
    {
     "output_type": "stream",
     "name": "stdout",
     "text": [
      "6\n",
      "1 2 3 4 5 40 "
     ]
    }
   ],
   "metadata": {}
  },
  {
   "cell_type": "code",
   "execution_count": 18,
   "source": [
    "ans"
   ],
   "outputs": [
    {
     "output_type": "execute_result",
     "data": {
      "text/plain": [
       "[1, 2, 3, 4, 5, 40]"
      ]
     },
     "metadata": {},
     "execution_count": 18
    }
   ],
   "metadata": {}
  },
  {
   "cell_type": "code",
   "execution_count": null,
   "source": [],
   "outputs": [],
   "metadata": {}
  }
 ],
 "metadata": {
  "orig_nbformat": 4,
  "language_info": {
   "name": "python",
   "version": "3.8.2",
   "mimetype": "text/x-python",
   "codemirror_mode": {
    "name": "ipython",
    "version": 3
   },
   "pygments_lexer": "ipython3",
   "nbconvert_exporter": "python",
   "file_extension": ".py"
  },
  "kernelspec": {
   "name": "python3",
   "display_name": "Python 3.8.2 64-bit"
  },
  "interpreter": {
   "hash": "31f2aee4e71d21fbe5cf8b01ff0e069b9275f58929596ceb00d14d90e3e16cd6"
  }
 },
 "nbformat": 4,
 "nbformat_minor": 2
}