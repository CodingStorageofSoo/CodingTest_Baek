{
 "cells": [
  {
   "cell_type": "code",
   "execution_count": 1,
   "source": [
    "N = int(input())"
   ],
   "outputs": [],
   "metadata": {}
  },
  {
   "cell_type": "code",
   "execution_count": 2,
   "source": [
    "result = [[0, []] for _ in range(N+1)]\n",
    "result[1][0] = 0\n",
    "result[1][1] = 1"
   ],
   "outputs": [],
   "metadata": {}
  },
  {
   "cell_type": "code",
   "execution_count": null,
   "source": [
    "for i in range(2, N+1):\n",
    "\n",
    "    result[i][0] = result[i-1][0] + 1\n",
    "    result[i][1] = result[i-1][1] + [i]\n",
    "\n",
    "    if i % 3 == 0 and result[i/3][0] + 1 < result[i][0]:\n",
    "        result[i][0] = result[i/3][0] + 1\n",
    "        result[i][1] = result[i/3][1] + [i]\n",
    "\n",
    "    if i % 2 == 0 and result[i/2][0] + 1 < result[i][0]:\n",
    "        result[i][0] = result[i/2][0] + 1\n",
    "        result[i][1] = result[i/2][1] + [i]\n",
    "\n",
    "print(result[N][0])\n",
    "print(result[N][1])\n"
   ],
   "outputs": [],
   "metadata": {}
  },
  {
   "cell_type": "code",
   "execution_count": 3,
   "source": [
    "[1] + [2]"
   ],
   "outputs": [
    {
     "output_type": "execute_result",
     "data": {
      "text/plain": [
       "[1, 2]"
      ]
     },
     "metadata": {},
     "execution_count": 3
    }
   ],
   "metadata": {}
  },
  {
   "cell_type": "code",
   "execution_count": null,
   "source": [],
   "outputs": [],
   "metadata": {}
  }
 ],
 "metadata": {
  "orig_nbformat": 4,
  "language_info": {
   "name": "python",
   "version": "3.8.2",
   "mimetype": "text/x-python",
   "codemirror_mode": {
    "name": "ipython",
    "version": 3
   },
   "pygments_lexer": "ipython3",
   "nbconvert_exporter": "python",
   "file_extension": ".py"
  },
  "kernelspec": {
   "name": "python3",
   "display_name": "Python 3.8.2 64-bit"
  },
  "interpreter": {
   "hash": "31f2aee4e71d21fbe5cf8b01ff0e069b9275f58929596ceb00d14d90e3e16cd6"
  }
 },
 "nbformat": 4,
 "nbformat_minor": 2
}