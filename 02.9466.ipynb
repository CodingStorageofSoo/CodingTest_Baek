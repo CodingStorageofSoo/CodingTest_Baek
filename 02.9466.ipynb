{
 "cells": [
  {
   "cell_type": "code",
   "execution_count": 1,
   "source": [
    "n = 7\n",
    "assign = [3, 1, 3, 7, 3, 4, 6]"
   ],
   "outputs": [],
   "metadata": {}
  },
  {
   "cell_type": "code",
   "execution_count": null,
   "source": [
    "visited = [False] * n\n",
    "result = []"
   ],
   "outputs": [],
   "metadata": {}
  },
  {
   "cell_type": "code",
   "execution_count": null,
   "source": [
    "def dfs(x):\n",
    "    global result\n",
    "    visited[x] = True\n",
    "    cycle.append(x) #사이클을 이루는 팀을 확인하기 위함\n",
    "    number = numbers[x]\n",
    "    \n",
    "    if visited[number]: #방문가능한 곳이 끝났는지\n",
    "        if number in cycle: #사이클 가능 여부\n",
    "            result += cycle[cycle.index(number):] #사이클 되는 구간 부터만 팀을 이룸\n",
    "        return\n",
    "    else:\n",
    "        dfs(number)"
   ],
   "outputs": [],
   "metadata": {}
  },
  {
   "cell_type": "code",
   "execution_count": null,
   "source": [
    "for _ in range(int(input())):\n",
    "    N = int(input())\n",
    "    numbers = [0] + list(map(int, input().split()))\n",
    "    visited = [True] + [False] * N #방문 여부\n",
    "    result = []\n",
    "    \n",
    "    for i in range(1, N+1):\n",
    "        if not visited[i]: #방문 안한 곳이라면\n",
    "            cycle = []\n",
    "            dfs(i) #DFS 함수 돌림\n",
    "            \n",
    "    print(N - len(result)) #팀에 없는 사람 수"
   ],
   "outputs": [],
   "metadata": {}
  }
 ],
 "metadata": {
  "orig_nbformat": 4,
  "language_info": {
   "name": "python",
   "version": "3.8.2",
   "mimetype": "text/x-python",
   "codemirror_mode": {
    "name": "ipython",
    "version": 3
   },
   "pygments_lexer": "ipython3",
   "nbconvert_exporter": "python",
   "file_extension": ".py"
  },
  "kernelspec": {
   "name": "python3",
   "display_name": "Python 3.8.2 64-bit"
  },
  "interpreter": {
   "hash": "31f2aee4e71d21fbe5cf8b01ff0e069b9275f58929596ceb00d14d90e3e16cd6"
  }
 },
 "nbformat": 4,
 "nbformat_minor": 2
}