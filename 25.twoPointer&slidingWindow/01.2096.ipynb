{
 "cells": [
  {
   "cell_type": "code",
   "execution_count": 1,
   "metadata": {},
   "outputs": [],
   "source": [
    "N = 3\n",
    "arr = [[1, 2, 3], [4, 5, 6], [4, 9, 0]]\n",
    "arr_max = [[0,0,0],[0,0,0]]\n",
    "arr_min = [[0,0,0],[0,0,0]]"
   ]
  },
  {
   "cell_type": "code",
   "execution_count": null,
   "metadata": {},
   "outputs": [],
   "source": [
    "for i in range(N):\n",
    "    \n",
    "    arr_max[1][0] = max(arr_max[0][0], arr_max[0][1]) + arr[i][0]\n",
    "    arr_max[1][1] = max(arr_max[0][1], arr_max[0][2], arr_max[0][0]) + arr[i][1]\n",
    "    arr_max[1][2] = max(arr_max[0][1], arr_max[0][2]) + arr[i][2]\n",
    "\n",
    "    arr_min[1][0] = min(arr_min[0][0], arr_min[0][1]) + arr[i][0]\n",
    "    arr_min[1][1] = min(arr_min[0][1], arr_min[0][2], arr_min[0][0]) + arr[i][1]\n",
    "    arr_min[1][2] = min(arr_min[0][1], arr_min[0][2]) + arr[i][2]\n",
    "\n",
    "    arr_max.append(arr_max.pop(0))\n",
    "    arr_min.append(arr_min.pop(0))\n",
    "\n",
    "print(max(arr_max[0]), end=\" \")\n",
    "print(min(arr_min[0]))"
   ]
  },
  {
   "cell_type": "code",
   "execution_count": 2,
   "metadata": {},
   "outputs": [],
   "source": [
    "arr_max = [[0, 0, 0], [0, 0, 0]]\n",
    "arr_min = [[0, 0, 0], [0, 0, 0]]\n",
    "\n",
    "for i in range(N):\n",
    "    \n",
    "    arr_max[1][0] = max (arr_max[0][0], arr_max[0][1]) + arr[i][0]\n",
    "    arr_max[1][1] = max (arr_max[0][0], arr_max[0][1], arr_max[0][2]) + arr[i][1]\n",
    "    arr_max[1][2] = max (arr_max[0][1], arr_max[0][2]) + arr[i][2]\n",
    "    \n",
    "    arr_min[1][0] = min (arr_min[0][0], arr_min[0][1]) + arr[i][0]\n",
    "    arr_min[1][1] = min (arr_min[0][0], arr_min[0][1], arr_min[0][2]) + arr[i][1]\n",
    "    arr_min[1][2] = min (arr_min[0][1], arr_min[0][2]) + arr[i][2]\n",
    "    \n",
    "    arr_max.append(arr_max.pop(0))\n",
    "    arr_min.append(arr_min.pop(0))"
   ]
  },
  {
   "cell_type": "code",
   "execution_count": 4,
   "metadata": {},
   "outputs": [
    {
     "data": {
      "text/plain": [
       "18"
      ]
     },
     "execution_count": 4,
     "metadata": {},
     "output_type": "execute_result"
    }
   ],
   "source": [
    "max(arr_max[0])"
   ]
  },
  {
   "cell_type": "code",
   "execution_count": 5,
   "metadata": {},
   "outputs": [
    {
     "data": {
      "text/plain": [
       "6"
      ]
     },
     "execution_count": 5,
     "metadata": {},
     "output_type": "execute_result"
    }
   ],
   "source": [
    "min(arr_min[0])"
   ]
  },
  {
   "cell_type": "code",
   "execution_count": null,
   "metadata": {},
   "outputs": [],
   "source": []
  }
 ],
 "metadata": {
  "interpreter": {
   "hash": "3516fe392b73aa4c2da58fe314a090916ee110d0f8fe6cfd79b4ffaff3759604"
  },
  "kernelspec": {
   "display_name": "Python 3.10.0 64-bit",
   "language": "python",
   "name": "python3"
  },
  "language_info": {
   "codemirror_mode": {
    "name": "ipython",
    "version": 3
   },
   "file_extension": ".py",
   "mimetype": "text/x-python",
   "name": "python",
   "nbconvert_exporter": "python",
   "pygments_lexer": "ipython3",
   "version": "3.10.0"
  },
  "orig_nbformat": 4
 },
 "nbformat": 4,
 "nbformat_minor": 2
}
